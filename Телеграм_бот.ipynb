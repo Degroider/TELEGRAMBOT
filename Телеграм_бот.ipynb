{
  "nbformat": 4,
  "nbformat_minor": 0,
  "metadata": {
    "colab": {
      "provenance": []
    },
    "kernelspec": {
      "name": "python3",
      "display_name": "Python 3"
    },
    "language_info": {
      "name": "python"
    }
  },
  "cells": [
    {
      "cell_type": "markdown",
      "source": [
        "Загрузка тг бота"
      ],
      "metadata": {
        "id": "-CsI26wgSjg5"
      }
    },
    {
      "cell_type": "code",
      "source": [
        "pip install PyTelegramBotAPI"
      ],
      "metadata": {
        "colab": {
          "base_uri": "https://localhost:8080/"
        },
        "id": "oTE155FS36of",
        "outputId": "34e99187-8cf6-4098-8e8f-74a6cce7fecc"
      },
      "execution_count": 42,
      "outputs": [
        {
          "output_type": "stream",
          "name": "stdout",
          "text": [
            "Looking in indexes: https://pypi.org/simple, https://us-python.pkg.dev/colab-wheels/public/simple/\n",
            "Requirement already satisfied: PyTelegramBotAPI in /usr/local/lib/python3.8/dist-packages (4.8.0)\n",
            "Requirement already satisfied: requests in /usr/local/lib/python3.8/dist-packages (from PyTelegramBotAPI) (2.23.0)\n",
            "Requirement already satisfied: chardet<4,>=3.0.2 in /usr/local/lib/python3.8/dist-packages (from requests->PyTelegramBotAPI) (3.0.4)\n",
            "Requirement already satisfied: certifi>=2017.4.17 in /usr/local/lib/python3.8/dist-packages (from requests->PyTelegramBotAPI) (2022.12.7)\n",
            "Requirement already satisfied: urllib3!=1.25.0,!=1.25.1,<1.26,>=1.21.1 in /usr/local/lib/python3.8/dist-packages (from requests->PyTelegramBotAPI) (1.24.3)\n",
            "Requirement already satisfied: idna<3,>=2.5 in /usr/local/lib/python3.8/dist-packages (from requests->PyTelegramBotAPI) (2.10)\n"
          ]
        }
      ]
    },
    {
      "cell_type": "markdown",
      "source": [
        "Загрузка библиотек"
      ],
      "metadata": {
        "id": "cIZ_3h1xSnjM"
      }
    },
    {
      "cell_type": "code",
      "source": [
        "import requests\n",
        "import random\n",
        "import telebot\n",
        "from bs4 import BeautifulSoup as b\n",
        "import numpy as np\n",
        "from telebot import types # для указание типов\n"
      ],
      "metadata": {
        "id": "fKtO1Q6s52_b"
      },
      "execution_count": 57,
      "outputs": []
    },
    {
      "cell_type": "code",
      "source": [
        "URL = 'https://randomall.ru/api/general/unexpected_event'"
      ],
      "metadata": {
        "id": "pKMhn8xT53tX"
      },
      "execution_count": 51,
      "outputs": []
    },
    {
      "cell_type": "markdown",
      "source": [
        "Получение API ключа для бота"
      ],
      "metadata": {
        "id": "77GlqsDLSqZZ"
      }
    },
    {
      "cell_type": "code",
      "source": [
        "API_KEY = '5966713957:AAGAissvdKtlaMHMy5LSar3-8_sREeBlJ4w'"
      ],
      "metadata": {
        "id": "XwUXILp9F68-"
      },
      "execution_count": 52,
      "outputs": []
    },
    {
      "cell_type": "code",
      "source": [
        "URL2 = 'https://randomall.ru/api/general/abilities'"
      ],
      "metadata": {
        "id": "ZAesrR9XO6NI"
      },
      "execution_count": 87,
      "outputs": []
    },
    {
      "cell_type": "code",
      "source": [
        "URL3 = 'https://randomall.ru/api/general/motivation'"
      ],
      "metadata": {
        "id": "GrLLnxA9RAQm"
      },
      "execution_count": 89,
      "outputs": []
    },
    {
      "cell_type": "code",
      "source": [
        "bot = telebot.TeleBot(API_KEY)\n",
        "@bot.message_handler(commands=['start'])\n",
        "def hello(message):\n",
        "  bot.send_message(message.chat.id, 'Здравствуйте. Вас приветствует бот, который может генерировать неловкую ситуацию (команда /re), способности персонажа (команда /q) и мотивацию персонажа (/m). Опробуйте!')\n",
        "@bot.message_handler(commands=['re'])\n",
        "def start(message):\n",
        "    r = requests.post(URL)\n",
        "    bot.send_message(message.chat.id, r.text)\n",
        "@bot.message_handler(commands=['q'])\n",
        "def start(message):\n",
        "    q = requests.post(URL2)\n",
        "    bot.send_message(message.chat.id, q.text)\n",
        "@bot.message_handler(commands=['m'])\n",
        "def start(message):\n",
        "    m = requests.post(URL3)\n",
        "    bot.send_message(message.chat.id, m.text)\n",
        "bot.polling(none_stop=True)"
      ],
      "metadata": {
        "id": "Ej8zPoOlGBRA"
      },
      "execution_count": 92,
      "outputs": []
    }
  ]
}